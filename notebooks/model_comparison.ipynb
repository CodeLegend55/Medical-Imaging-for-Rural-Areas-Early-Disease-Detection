{
 "cells": [
  {
   "cell_type": "markdown",
   "metadata": {},
   "source": [
    "# Model Comparison\n",
    "\n",
    "This notebook is used for comparing the performance of different models (ResNet50, DenseNet121, EfficientNetB0) on the chest X-ray dataset for early disease detection."
   ]
  },
  {
   "cell_type": "code",
   "execution_count": 1,
   "metadata": {},
   "outputs": [],
   "source": [
    "import numpy as np\n",
    "import pandas as pd\n",
    "import matplotlib.pyplot as plt\n",
    "import seaborn as sns\n",
    "from sklearn.metrics import classification_report, confusion_matrix\n",
    "import tensorflow as tf\n",
    "from src.models.resnet50_model import ResNet50Model\n",
    "from src.models.densenet121_model import DenseNet121Model\n",
    "from src.models.efficientnet_model import EfficientNetModel\n",
    "from src.data.data_loader import load_data\n",
    "from src.training.evaluate import evaluate_model\n",
    "\n",
    "# Load the dataset\n",
    "train_data, val_data, test_data = load_data()\n",
    "\n",
    "# Initialize models\n",
    "resnet_model = ResNet50Model()\n",
    "densenet_model = DenseNet121Model()\n",
    "efficientnet_model = EfficientNetModel()\n",
    "\n",
    "# Train models (assuming train function is defined in each model class)\n",
    "resnet_model.train(train_data)\n",
    "densenet_model.train(train_data)\n",
    "efficientnet_model.train(train_data)\n",
    "\n",
    "# Evaluate models\n",
    "resnet_results = evaluate_model(resnet_model, test_data)\n",
    "densenet_results = evaluate_model(densenet_model, test_data)\n",
    "efficientnet_results = evaluate_model(efficientnet_model, test_data)\n",
    "\n",
    "# Prepare results for comparison\n",
    "results = pd.DataFrame({\n",
    "    'Model': ['ResNet50', 'DenseNet121', 'EfficientNetB0'],\n",
    "    'Accuracy': [resnet_results['accuracy'], densenet_results['accuracy'], efficientnet_results['accuracy']],\n",
    "    'F1 Score': [resnet_results['f1_score'], densenet_results['f1_score'], efficientnet_results['f1_score']],\n",
    "})\n",
    "\n",
    "# Plot results\n",
    "plt.figure(figsize=(10, 5))\n",
    "sns.barplot(x='Model', y='Accuracy', data=results)\n",
    "plt.title('Model Accuracy Comparison')\n",
    "plt.show()\n",
    "\n",
    "plt.figure(figsize=(10, 5))\n",
    "sns.barplot(x='Model', y='F1 Score', data=results)\n",
    "plt.title('Model F1 Score Comparison')\n",
    "plt.show()\n",
    "\n",
    "# Display classification reports\n",
    "print(\"ResNet50 Classification Report:\")\n",
    "print(classification_report(test_data['labels'], resnet_results['predictions']))\n",
    "\n",
    "print(\"DenseNet121 Classification Report:\")\n",
    "print(classification_report(test_data['labels'], densenet_results['predictions']))\n",
    "\n",
    "print(\"EfficientNetB0 Classification Report:\")\n",
    "print(classification_report(test_data['labels'], efficientnet_results['predictions']))"
   ]
  }
 ],
 "metadata": {
  "kernelspec": {
   "display_name": "Python 3",
   "language": "python",
   "name": "python3"
  },
  "language_info": {
   "codemirror_mode": {
    "name": "ipython",
    "version": 3
   },
   "file_extension": ".py",
   "mimetype": "text/x-python",
   "name": "python",
   "nbconvert_exporter": "python",
   "pygments_lexer": "ipython3",
   "version": "3.8.5"
  }
 },
 "nbformat": 4,
 "nbformat_minor": 4
}